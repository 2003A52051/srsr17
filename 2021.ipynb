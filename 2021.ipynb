import numpy as np
x1=[3.2,3.2,3.7,3.9,4,4,4.1,4.5,4.9,5.1,5.3,5.9,6]
y=[54445,64445,57189,63218,55794,56957,57081,61111,67938,66029,83088,81363,93940]
yp=[]
e=[]

m=[1235,1500,1850,2000]
c=[1900,1950,2000,2100]
#g=[]
def linear(m,c):
  sum=0
  g=[]
  yp=[]
  for i in range(0,len(x1)):
    yp.append(m*x1[i]+c)
    g.append((y[i]-yp[i])**2)
    k=np.array(g)
  print('meam square error is :',np.mean(k))
    
for i in range(0,4):
   linear(m[i],c[i])
